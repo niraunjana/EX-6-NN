{
  "nbformat": 4,
  "nbformat_minor": 0,
  "metadata": {
    "colab": {
      "provenance": []
    },
    "kernelspec": {
      "name": "python3",
      "display_name": "Python 3"
    },
    "language_info": {
      "name": "python"
    }
  },
  "cells": [
    {
      "cell_type": "code",
      "execution_count": 1,
      "metadata": {
        "id": "nr3RpLgq0rAQ"
      },
      "outputs": [],
      "source": [
        "Developed by: NIRAUNJANA GAYATHRI G R\n",
        "Reg No: 212222230096\n",
        "\n",
        "import numpy as np\n",
        "import pandas as pd\n",
        "from sklearn.neural_network import MLPClassifier\n",
        "from sklearn.model_selection import train_test_split\n",
        "from sklearn.preprocessing import StandardScaler\n",
        "from sklearn.metrics import accuracy_score,classification_report,confusion_matrix\n",
        "import matplotlib.pyplot as plt\n"
      ]
    },
    {
      "cell_type": "code",
      "source": [
        "\n",
        "# Load the dataset (assuming it's stored in a file)\n",
        "data = pd.read_csv('heart.csv')\n",
        "\n"
      ],
      "metadata": {
        "id": "K9D_6nLE0xU1"
      },
      "execution_count": null,
      "outputs": []
    },
    {
      "cell_type": "code",
      "source": [
        "\n",
        "# Separate features and labels\n",
        "X = data.iloc[:, :-1].values  # Features\n",
        "y = data.iloc[:, -1].values   # Labels\n"
      ],
      "metadata": {
        "id": "dOeAM_Uo0xXn"
      },
      "execution_count": null,
      "outputs": []
    },
    {
      "cell_type": "code",
      "source": [
        "\n",
        "# Split the dataset into training and testing sets\n",
        "X_train, X_test, y_train, y_test = train_test_split(X, y, test_size=0.2, random_state=42)\n"
      ],
      "metadata": {
        "id": "31FuMKC80xaR"
      },
      "execution_count": null,
      "outputs": []
    },
    {
      "cell_type": "code",
      "source": [
        "\n",
        "# Normalize the feature data\n",
        "scaler = StandardScaler()\n",
        "X_train = scaler.fit_transform(X_train)\n",
        "X_test = scaler.transform(X_test)\n"
      ],
      "metadata": {
        "id": "rvjsuKEx0xcs"
      },
      "execution_count": null,
      "outputs": []
    },
    {
      "cell_type": "code",
      "source": [
        "\n",
        "# Create and train the MLP model\n",
        "mlp = MLPClassifier(hidden_layer_sizes=(100, 100), max_iter=1000, random_state=42)\n",
        "training_loss = mlp.fit(X_train, y_train).loss_curve_\n"
      ],
      "metadata": {
        "id": "codLbrtx0xfN"
      },
      "execution_count": null,
      "outputs": []
    },
    {
      "cell_type": "code",
      "source": [
        "\n",
        "# Make predictions on the testing set\n",
        "y_pred = mlp.predict(X_test)\n"
      ],
      "metadata": {
        "id": "C-qquSRg0xhc"
      },
      "execution_count": null,
      "outputs": []
    },
    {
      "cell_type": "code",
      "source": [
        "\n",
        "# Evaluate the model\n",
        "accuracy = accuracy_score(y_test, y_pred)\n",
        "print(\"Accuracy:\", accuracy)\n"
      ],
      "metadata": {
        "colab": {
          "base_uri": "https://localhost:8080/"
        },
        "id": "0NFe-dxP0xjw",
        "outputId": "2010a840-53a7-409d-9127-576d4ffc7e9b"
      },
      "execution_count": null,
      "outputs": [
        {
          "output_type": "stream",
          "name": "stdout",
          "text": [
            "Accuracy: 0.9853658536585366\n"
          ]
        }
      ]
    },
    {
      "cell_type": "code",
      "source": [
        "print(\"NIRAUNJANA GAYATHRI G R 212222230096\")\n",
        "# Plot the error convergence\n",
        "plt.plot(training_loss)\n",
        "plt.title(\"MLP Training Loss Convergence\")\n",
        "plt.xlabel(\"Iteration\")\n",
        "plt.ylabel(\"Training Loss\")\n",
        "plt.show()"
      ],
      "metadata": {
        "colab": {
          "base_uri": "https://localhost:8080/",
          "height": 489
        },
        "id": "F2ukDaTa0xmT",
        "outputId": "5e4bcc74-68be-4720-e06c-1ab389a37d63"
      },
      "execution_count": null,
      "outputs": [
        {
          "output_type": "stream",
          "name": "stdout",
          "text": [
            "NIRAUNJANA GAYATHRI G R 212222230096\n"
          ]
        },
        {
          "output_type": "display_data",
          "data": {
            "text/plain": [
              "<Figure size 640x480 with 1 Axes>"
            ],
            "image/png": "[encoded data removed]"
          },
          "metadata": {}
        }
      ]
    },
    {
      "cell_type": "code",
      "source": [
        "\n",
        "\n",
        "conf_matrix=confusion_matrix(y_test,y_pred)\n",
        "classification_rep=classification_report(y_test,y_pred)\n",
        "print(\"NIRAUNJANA GAYATHRI G R 212222230096\")\n",
        "print(\"\\nConfusion Matrix:\")\n",
        "print(conf_matrix)\n",
        "print(\"NIRAUNJANA GAYATHRI G R 212222230096\")\n",
        "print(\"\\nClassification Report:\")\n",
        "print(classification_rep)"
      ],
      "metadata": {
        "colab": {
          "base_uri": "https://localhost:8080/"
        },
        "id": "0l_UENt90xoq",
        "outputId": "4d4df133-69df-48e2-88cb-b94ed42ab14d"
      },
      "execution_count": null,
      "outputs": [
        {
          "output_type": "stream",
          "name": "stdout",
          "text": [
            "NIRAUNJANA GAYATHRI G R 212222230096\n",
            "\n",
            "Confusion Matrix:\n",
            "[[102   0]\n",
            " [  3 100]]\n",
            "NIRAUNJANA GAYATHRI G R 212222230096\n",
            "\n",
            "Classification Report:\n",
            "              precision    recall  f1-score   support\n",
            "\n",
            "           0       0.97      1.00      0.99       102\n",
            "           1       1.00      0.97      0.99       103\n",
            "\n",
            "    accuracy                           0.99       205\n",
            "   macro avg       0.99      0.99      0.99       205\n",
            "weighted avg       0.99      0.99      0.99       205\n",
            "\n"
          ]
        }
      ]
    },
    {
      "cell_type": "code",
      "source": [],
      "metadata": {
        "id": "RYsbTlrP0xrJ"
      },
      "execution_count": null,
      "outputs": []
    },
    {
      "cell_type": "code",
      "source": [],
      "metadata": {
        "id": "nsYcWgFP0xtp"
      },
      "execution_count": null,
      "outputs": []
    },
    {
      "cell_type": "code",
      "source": [],
      "metadata": {
        "id": "_ZSjGfft0xxI"
      },
      "execution_count": null,
      "outputs": []
    }
  ]
}